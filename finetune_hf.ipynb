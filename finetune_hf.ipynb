{
  "cells": [
    {
      "cell_type": "markdown",
      "source": [
        "Following https://huggingface.co/learn/cookbook/fine_tuning_code_llm_on_single_gpu"
      ],
      "metadata": {
        "id": "FENgUg9ixK5y"
      }
    },
    {
      "cell_type": "code",
      "execution_count": null,
      "metadata": {
        "id": "TqZeZlz6KGgB"
      },
      "outputs": [],
      "source": [
        "# Step 1: Clone the repo and setup environment\n",
        "\n",
        "import os\n",
        "import subprocess\n",
        "\n",
        "repo_dir = \"./tamarind-finetune\"\n",
        "repo_url = \"https://github.com/smartrics/tamarind-finetune.git\"\n",
        "\n",
        "if os.path.isdir(repo_dir):\n",
        "    print(\"Directory 'tamarind-finetune' exists. Pulling latest changes...\")\n",
        "    subprocess.run([\"git\", \"-C\", repo_dir, \"pull\"], check=True)\n",
        "else:\n",
        "    print(\"Directory 'tamarind-finetune' does not exist. Cloning repository...\")\n",
        "    subprocess.run([\"git\", \"clone\", repo_url, repo_dir], check=True)\n",
        "print(\"finished!\")"
      ]
    },
    {
      "cell_type": "code",
      "execution_count": null,
      "metadata": {
        "id": "MC1HVjTjKGgC"
      },
      "outputs": [],
      "source": [
        "%cd ./tamarind-finetune"
      ]
    },
    {
      "cell_type": "markdown",
      "source": [
        "We’ll finetune `bigcode/starcoderbase-1b`, which is a 1B parameter model trained on 80+ programming languages. This is a gated model, so if you plan to run this notebook with this exact model, you’ll need to gain access to it on the model’s page. Log in to your Hugging Face account to do so:"
      ],
      "metadata": {
        "id": "MpJEMYoMxcxq"
      }
    },
    {
      "cell_type": "code",
      "source": [
        "from huggingface_hub import notebook_login\n",
        "\n",
        "# --- 2. Login to Hugging Face Hub ---\n",
        "notebook_login()"
      ],
      "metadata": {
        "id": "YY9BwThwxU7l"
      },
      "execution_count": null,
      "outputs": []
    },
    {
      "cell_type": "markdown",
      "source": [
        "To get started, let’s install all the necessary libraries. As you can see, in addition to `transformers` and `datasets`, we’ll be using `peft`, `bitsandbytes`, and `flash-attn` to optimize the training.\n",
        "\n",
        "By employing parameter-efficient training techniques, we can run this notebook on a single A100 High-RAM GPU."
      ],
      "metadata": {
        "id": "l__9r-2Jx7BM"
      }
    },
    {
      "cell_type": "code",
      "execution_count": null,
      "metadata": {
        "id": "YIrUJnP5KGgC"
      },
      "outputs": [],
      "source": [
        "!pip install -q transformers datasets peft bitsandbytes flash-attn"
      ]
    },
    {
      "cell_type": "markdown",
      "source": [
        "Let’s define some variables now. Feel free to play with these."
      ],
      "metadata": {
        "id": "pZuuvrroyGk_"
      }
    },
    {
      "cell_type": "code",
      "source": [
        "MODEL = \"bigcode/starcoderbase-1b\"  # Model checkpoint on the Hugging Face Hub\n",
        "DATA_COLUMN = \"content\"  # Column name containing the code content\n",
        "\n",
        "SEQ_LENGTH = 2048  # Sequence length\n",
        "\n",
        "# Training arguments\n",
        "MAX_STEPS = 2000  # max_steps\n",
        "BATCH_SIZE = 16  # batch_size\n",
        "GR_ACC_STEPS = 1  # gradient_accumulation_steps\n",
        "LR = 5e-4  # learning_rate\n",
        "LR_SCHEDULER_TYPE = \"cosine\"  # lr_scheduler_type\n",
        "WEIGHT_DECAY = 0.01  # weight_decay\n",
        "NUM_WARMUP_STEPS = 30  # num_warmup_steps\n",
        "EVAL_FREQ = 100  # eval_freq\n",
        "SAVE_FREQ = 100  # save_freq\n",
        "LOG_FREQ = 25  # log_freq\n",
        "OUTPUT_DIR = \"starcoder-1b-tamarind\"  # output_dir\n",
        "BF16 = True  # bf16\n",
        "FP16 = False  # no_fp16\n",
        "\n",
        "# FIM trasformations arguments\n",
        "FIM_RATE = 0.5  # fim_rate\n",
        "FIM_SPM_RATE = 0.5  # fim_spm_rate\n",
        "\n",
        "# LORA\n",
        "LORA_R = 8  # lora_r\n",
        "LORA_ALPHA = 32  # lora_alpha\n",
        "LORA_DROPOUT = 0.0  # lora_dropout\n",
        "LORA_TARGET_MODULES = \"c_proj,c_attn,q_attn,c_fc,c_proj\"  # lora_target_modules\n",
        "\n",
        "# bitsandbytes config\n",
        "USE_NESTED_QUANT = True  # use_nested_quant\n",
        "BNB_4BIT_COMPUTE_DTYPE = \"bfloat16\"  # bnb_4bit_compute_dtype\n",
        "\n",
        "SEED = 0"
      ],
      "metadata": {
        "id": "wPDFjg0bsPgM"
      },
      "execution_count": null,
      "outputs": []
    },
    {
      "cell_type": "markdown",
      "source": [
        "Begin by loading the data\n",
        "\n",
        "At this step, the dataset still contains raw data with code of arbitraty length. For training, we need inputs of fixed length. Let’s create an Iterable dataset that would return constant-length chunks of tokens from a stream of text files.\n",
        "\n",
        "First, let’s estimate the average number of characters per token in the dataset, which will help us later estimate the number of tokens in the text buffer later. By default, we’ll only take 400 examples (`nb_examples`) from the dataset. Using only a subset of the entire dataset will reduce computational cost while still providing a reasonable estimate of the overall character-to-token ratio."
      ],
      "metadata": {
        "id": "Dw6cPbmTxwNw"
      }
    },
    {
      "cell_type": "code",
      "execution_count": null,
      "metadata": {
        "id": "ol8XN8CGKGgD"
      },
      "outputs": [],
      "source": [
        "# --- 1. Prepare the Data ---\n",
        "\n",
        "from datasets import load_dataset, DatasetDict\n",
        "\n",
        "# Load each split from JSONL files\n",
        "train_data = load_dataset(\"csv\", data_files=\"data_starcoderbase/training_data.jsonl\", split=\"train\")\n",
        "valid_data = load_dataset(\"csv\", data_files=\"data_starcoderbase/validation_data.jsonl\", split=\"train\")\n",
        "test_data = load_dataset(\"csv\", data_files=\"data_starcoderbase/test_data.jsonl\", split=\"train\")\n",
        "\n",
        "\n",
        "# Create a single DatasetDict\n",
        "raw_datasets = DatasetDict({\n",
        "    \"train\": train_data,\n",
        "    \"validation\": eval_data,\n",
        "    \"test\": test_data\n",
        "})\n",
        "\n",
        "tokenizer = AutoTokenizer.from_pretrained(MODEL, trust_remote_code=True)\n",
        "\n",
        "def chars_token_ratio(dataset, tokenizer, data_column, nb_examples=400):\n",
        "    \"\"\"\n",
        "    Estimate the average number of characters per token in the dataset.\n",
        "    \"\"\"\n",
        "\n",
        "    total_characters, total_tokens = 0, 0\n",
        "    for _, example in tqdm(zip(range(nb_examples), iter(dataset)), total=nb_examples):\n",
        "        total_characters += len(example[data_column])\n",
        "        total_tokens += len(tokenizer(example[data_column]).tokens())\n",
        "\n",
        "    return total_characters / total_tokens\n",
        "\n",
        "\n",
        "chars_per_token = chars_token_ratio(train_data, tokenizer, DATA_COLUMN)\n",
        "print(f\"The character to token ratio of the dataset is: {chars_per_token:.2f}\")"
      ]
    },
    {
      "cell_type": "markdown",
      "source": [
        "The character-to-token ratio can also be used as an indicator of the quality of text tokenization. For instance, a character-to-token ratio of 1.0 would mean that each character is represented with a token, which is not very meaningful. This would indicate poor tokenization. In standard English text, one token is typically equivalent to approximately four characters, meaning the character-to-token ratio is around 4.0. We can expect a lower ratio in the code dataset, but generally speaking, a number between 2.0 and 3.5 can be considered good enough."
      ],
      "metadata": {
        "id": "m5vioudlylL9"
      }
    },
    {
      "cell_type": "markdown",
      "source": [
        "**Optional FIM transformations**\n",
        "\n",
        "Autoregressive language models typically generate sequences from left to right. By applying the FIM transformations, the model can also learn to infill text. Check out “[Efficient Training of Language Models to Fill in the Middle](https://arxiv.org/pdf/2207.14255.pdf)” paper to learn more about the technique. We’ll define the FIM transformations here and will use them when creating the Iterable Dataset. However, if you want to omit transformations, feel free to set fim_rate to 0."
      ],
      "metadata": {
        "id": "m7V-joKEywCj"
      }
    },
    {
      "cell_type": "code",
      "execution_count": null,
      "metadata": {
        "id": "CJKYhqYDcYiX"
      },
      "outputs": [],
      "source": [
        "import functools\n",
        "import numpy as np\n",
        "\n",
        "FIM_RATE=0\n",
        "\n",
        "# Helper function to get token ids of the special tokens for prefix, suffix and middle for FIM transformations.\n",
        "\n",
        "def get_fim_token_ids(tokenizer):\n",
        "    try:\n",
        "        FIM_PREFIX, FIM_MIDDLE, FIM_SUFFIX, FIM_PAD = tokenizer.special_tokens_map[\"additional_special_tokens\"][1:5]\n",
        "        suffix_tok_id, prefix_tok_id, middle_tok_id, pad_tok_id = (\n",
        "            tokenizer.vocab[tok] for tok in [FIM_SUFFIX, FIM_PREFIX, FIM_MIDDLE, FIM_PAD]\n",
        "        )\n",
        "    except KeyError:\n",
        "        suffix_tok_id, prefix_tok_id, middle_tok_id, pad_tok_id = None, None, None, None\n",
        "    return suffix_tok_id, prefix_tok_id, middle_tok_id, pad_tok_id\n",
        "\n",
        "\n",
        "## Adapted from https://github.com/bigcode-project/Megatron-LM/blob/6c4bf908df8fd86b4977f54bf5b8bd4b521003d1/megatron/data/gpt_dataset.py\n",
        "def permute(\n",
        "    sample,\n",
        "    np_rng,\n",
        "    suffix_tok_id,\n",
        "    prefix_tok_id,\n",
        "    middle_tok_id,\n",
        "    pad_tok_id,\n",
        "    fim_rate=FIM_RATE,\n",
        "    fim_spm_rate=0.5,\n",
        "    truncate_or_pad=False,\n",
        "):\n",
        "    \"\"\"\n",
        "    Take in a sample (list of tokens) and perform a FIM transformation on it with a probability of fim_rate, using two FIM modes:\n",
        "    PSM and SPM (with a probability of fim_spm_rate).\n",
        "    \"\"\"\n",
        "\n",
        "    # The if condition will trigger with the probability of fim_rate\n",
        "    # This means FIM transformations will apply to samples with a probability of fim_rate\n",
        "    if np_rng.binomial(1, fim_rate):\n",
        "\n",
        "        # Split the sample into prefix, middle, and suffix, based on randomly generated indices stored in the boundaries list.\n",
        "        boundaries = list(np_rng.randint(low=0, high=len(sample) + 1, size=2))\n",
        "        boundaries.sort()\n",
        "\n",
        "        prefix = np.array(sample[: boundaries[0]], dtype=np.int64)\n",
        "        middle = np.array(sample[boundaries[0] : boundaries[1]], dtype=np.int64)\n",
        "        suffix = np.array(sample[boundaries[1] :], dtype=np.int64)\n",
        "\n",
        "        if truncate_or_pad:\n",
        "            # calculate the new total length of the sample, taking into account tokens indicating prefix, middle, and suffix\n",
        "            new_length = suffix.shape[0] + prefix.shape[0] + middle.shape[0] + 3\n",
        "            diff = new_length - len(sample)\n",
        "\n",
        "            # trancate or pad if there's a difference in length between the new length and the original\n",
        "            if diff > 0:\n",
        "                if suffix.shape[0] <= diff:\n",
        "                    return sample, np_rng\n",
        "                suffix = suffix[: suffix.shape[0] - diff]\n",
        "            elif diff < 0:\n",
        "                suffix = np.concatenate([suffix, np.full((-1 * diff), pad_tok_id)])\n",
        "\n",
        "        # With the probability of fim_spm_rateapply SPM variant of FIM transformations\n",
        "        # SPM: suffix, prefix, middle\n",
        "        if np_rng.binomial(1, fim_spm_rate):\n",
        "            new_sample = np.concatenate(\n",
        "                [\n",
        "                    [prefix_tok_id, suffix_tok_id],\n",
        "                    suffix,\n",
        "                    [middle_tok_id],\n",
        "                    prefix,\n",
        "                    middle,\n",
        "                ]\n",
        "            )\n",
        "        # Otherwise, apply the PSM variant of FIM transformations\n",
        "        # PSM: prefix, suffix, middle\n",
        "        else:\n",
        "\n",
        "            new_sample = np.concatenate(\n",
        "                [\n",
        "                    [prefix_tok_id],\n",
        "                    prefix,\n",
        "                    [suffix_tok_id],\n",
        "                    suffix,\n",
        "                    [middle_tok_id],\n",
        "                    middle,\n",
        "                ]\n",
        "            )\n",
        "    else:\n",
        "        # don't apply FIM transformations\n",
        "        new_sample = sample\n",
        "\n",
        "    return list(new_sample), np_rng"
      ]
    },
    {
      "cell_type": "markdown",
      "source": [
        "Let’s define the ConstantLengthDataset, an Iterable dataset that will return constant-length chunks of tokens. To do so, we’ll read a buffer of text from the original dataset until we hit the size limits and then apply tokenizer to convert the raw text into tokenized inputs. Optionally, we’ll perform FIM transformations on some sequences (the proportion of sequences affected is controlled by fim_rate).\n",
        "\n",
        "Once defined, we can create instances of the ConstantLengthDataset from both training and validation data."
      ],
      "metadata": {
        "id": "Ri3ABiUF5wIP"
      }
    },
    {
      "cell_type": "code",
      "execution_count": null,
      "metadata": {
        "id": "sM_RNa_HKGgE"
      },
      "outputs": [],
      "source": [
        "from torch.utils.data import IterableDataset\n",
        "from torch.utils.data.dataloader import DataLoader\n",
        "import random\n",
        "\n",
        "# Create an Iterable dataset that returns constant-length chunks of tokens from a stream of text files.\n",
        "\n",
        "\n",
        "class ConstantLengthDataset(IterableDataset):\n",
        "    \"\"\"\n",
        "    Iterable dataset that returns constant length chunks of tokens from stream of text files.\n",
        "        Args:\n",
        "            tokenizer (Tokenizer): The processor used for proccessing the data.\n",
        "            dataset (dataset.Dataset): Dataset with text files.\n",
        "            infinite (bool): If True the iterator is reset after dataset reaches end else stops.\n",
        "            seq_length (int): Length of token sequences to return.\n",
        "            num_of_sequences (int): Number of token sequences to keep in buffer.\n",
        "            chars_per_token (int): Number of characters per token used to estimate number of tokens in text buffer.\n",
        "            fim_rate (float): Rate (0.0 to 1.0) that sample will be permuted with FIM.\n",
        "            fim_spm_rate (float): Rate (0.0 to 1.0) of FIM permuations that will use SPM.\n",
        "            seed (int): Seed for random number generator.\n",
        "    \"\"\"\n",
        "\n",
        "    def __init__(\n",
        "        self,\n",
        "        tokenizer,\n",
        "        dataset,\n",
        "        infinite=False,\n",
        "        seq_length=1024,\n",
        "        num_of_sequences=1024,\n",
        "        chars_per_token=3.6,\n",
        "        content_field=\"content\",\n",
        "        fim_rate=0.5,\n",
        "        fim_spm_rate=0.5,\n",
        "        seed=0,\n",
        "    ):\n",
        "        self.tokenizer = tokenizer\n",
        "        self.concat_token_id = tokenizer.eos_token_id\n",
        "        self.dataset = dataset\n",
        "        self.seq_length = seq_length\n",
        "        self.infinite = infinite\n",
        "        self.current_size = 0\n",
        "        self.max_buffer_size = seq_length * chars_per_token * num_of_sequences\n",
        "        self.content_field = content_field\n",
        "        self.fim_rate = fim_rate\n",
        "        self.fim_spm_rate = fim_spm_rate\n",
        "        self.seed = seed\n",
        "\n",
        "        (\n",
        "            self.suffix_tok_id,\n",
        "            self.prefix_tok_id,\n",
        "            self.middle_tok_id,\n",
        "            self.pad_tok_id,\n",
        "        ) = get_fim_token_ids(self.tokenizer)\n",
        "        if not self.suffix_tok_id and self.fim_rate > 0:\n",
        "            print(\"FIM is not supported by tokenizer, disabling FIM\")\n",
        "            self.fim_rate = 0\n",
        "\n",
        "    def __iter__(self):\n",
        "        iterator = iter(self.dataset)\n",
        "        more_examples = True\n",
        "        np_rng = np.random.RandomState(seed=self.seed)\n",
        "        while more_examples:\n",
        "            buffer, buffer_len = [], 0\n",
        "            while True:\n",
        "                if buffer_len >= self.max_buffer_size:\n",
        "                    break\n",
        "                try:\n",
        "                    buffer.append(next(iterator)[self.content_field])\n",
        "                    buffer_len += len(buffer[-1])\n",
        "                except StopIteration:\n",
        "                    if self.infinite:\n",
        "                        iterator = iter(self.dataset)\n",
        "                    else:\n",
        "                        more_examples = False\n",
        "                        break\n",
        "            tokenized_inputs = self.tokenizer(buffer, truncation=False)[\"input_ids\"]\n",
        "            all_token_ids = []\n",
        "\n",
        "            for tokenized_input in tokenized_inputs:\n",
        "                # optionally do FIM permutations\n",
        "                if self.fim_rate > 0:\n",
        "                    tokenized_input, np_rng = permute(\n",
        "                        tokenized_input,\n",
        "                        np_rng,\n",
        "                        self.suffix_tok_id,\n",
        "                        self.prefix_tok_id,\n",
        "                        self.middle_tok_id,\n",
        "                        self.pad_tok_id,\n",
        "                        fim_rate=self.fim_rate,\n",
        "                        fim_spm_rate=self.fim_spm_rate,\n",
        "                        truncate_or_pad=False,\n",
        "                    )\n",
        "\n",
        "                all_token_ids.extend(tokenized_input + [self.concat_token_id])\n",
        "            examples = []\n",
        "            for i in range(0, len(all_token_ids), self.seq_length):\n",
        "                input_ids = all_token_ids[i : i + self.seq_length]\n",
        "                if len(input_ids) == self.seq_length:\n",
        "                    examples.append(input_ids)\n",
        "            random.shuffle(examples)\n",
        "            for example in examples:\n",
        "                self.current_size += 1\n",
        "                yield {\n",
        "                    \"input_ids\": torch.LongTensor(example),\n",
        "                    \"labels\": torch.LongTensor(example),\n",
        "                }\n",
        "\n",
        "\n",
        "train_dataset = ConstantLengthDataset(\n",
        "    tokenizer,\n",
        "    train_data,\n",
        "    infinite=True,\n",
        "    seq_length=SEQ_LENGTH,\n",
        "    chars_per_token=chars_per_token,\n",
        "    content_field=DATA_COLUMN,\n",
        "    fim_rate=FIM_RATE,\n",
        "    fim_spm_rate=FIM_SPM_RATE,\n",
        "    seed=SEED,\n",
        ")\n",
        "eval_dataset = ConstantLengthDataset(\n",
        "    tokenizer,\n",
        "    valid_data,\n",
        "    infinite=False,\n",
        "    seq_length=SEQ_LENGTH,\n",
        "    chars_per_token=chars_per_token,\n",
        "    content_field=DATA_COLUMN,\n",
        "    fim_rate=FIM_RATE,\n",
        "    fim_spm_rate=FIM_SPM_RATE,\n",
        "    seed=SEED,\n",
        ")"
      ]
    },
    {
      "cell_type": "markdown",
      "source": [
        "**Prepare the model**\n",
        "Now that the data is prepared, it’s time to load the model! We’re going to load the quantized version of the model.\n",
        "\n",
        "This will allow us to reduce memory usage, as quantization represents data with fewer bits. We’ll use the `bitsandbytes` library to quantize the model, as it has a nice integration with `transformers`. All we need to do is define a `bitsandbytes` config, and then use it when loading the model.\n",
        "\n",
        "There are different variants of 4bit quantization, but generally, we recommend using NF4 quantization for better performance (`bnb_4bit_quant_type=\"nf4\"`).\n",
        "\n",
        "The `bnb_4bit_use_double_quant` option adds a second quantization after the first one to save an additional `0.4` bits per parameter.\n",
        "\n",
        "To learn more about quantization, check out the “[Making LLMs even more accessible with `bitsandbytes`, 4-bit quantization and QLoRA](https://huggingface.co/blog/4bit-transformers-bitsandbytes)” blog post.\n",
        "\n",
        "Once defined, pass the config to the from_pretrained method to load the quantized version of the model."
      ],
      "metadata": {
        "id": "LlKSFj8RLy8P"
      }
    },
    {
      "cell_type": "code",
      "execution_count": null,
      "metadata": {
        "id": "MJZ6VBE4KGgE"
      },
      "outputs": [],
      "source": [
        "from peft import LoraConfig, get_peft_model, prepare_model_for_kbit_training\n",
        "from peft.tuners.lora import LoraLayer\n",
        "\n",
        "load_in_8bit = False\n",
        "\n",
        "# 4-bit quantization\n",
        "compute_dtype = getattr(torch, BNB_4BIT_COMPUTE_DTYPE)\n",
        "\n",
        "bnb_config = BitsAndBytesConfig(\n",
        "    load_in_4bit=True,\n",
        "    bnb_4bit_quant_type=\"nf4\",\n",
        "    bnb_4bit_compute_dtype=compute_dtype,\n",
        "    bnb_4bit_use_double_quant=USE_NESTED_QUANT,\n",
        ")\n",
        "\n",
        "device_map = {\"\": 0}\n",
        "\n",
        "model = AutoModelForCausalLM.from_pretrained(\n",
        "    MODEL,\n",
        "    load_in_8bit=load_in_8bit,\n",
        "    quantization_config=bnb_config,\n",
        "    device_map=device_map,\n",
        "    use_cache=False,  # We will be using gradient checkpointing\n",
        "    trust_remote_code=True,\n",
        "    use_flash_attention_2=True,\n",
        ")"
      ]
    },
    {
      "cell_type": "markdown",
      "source": [
        "When using a quantized model for training, you need to call the prepare_model_for_kbit_training() function to preprocess the quantized model for training.\n",
        "\n",
        "```\n",
        "model = prepare_model_for_kbit_training(model)\n",
        "```\n",
        "\n",
        "Now that the quantized model is ready, we can set up a LoRA configuration. LoRA makes fine-tuning more efficient by drastically reducing the number of trainable parameters.\n",
        "\n",
        "To train a model using LoRA technique, we need to wrap the base model as a PeftModel. This involves definign LoRA configuration with LoraConfig, and wrapping the original model with get_peft_model() using the LoraConfig.\n",
        "\n",
        "To learn more about LoRA and its parameters, refer to PEFT documentation.\n",
        "\n",
        "```python\n",
        "# Set up lora\n",
        "peft_config = LoraConfig(\n",
        "    lora_alpha=LORA_ALPHA,\n",
        "    lora_dropout=LORA_DROPOUT,\n",
        "    r=LORA_R,\n",
        "    bias=\"none\",\n",
        "    task_type=\"CAUSAL_LM\",\n",
        "    target_modules=LORA_TARGET_MODULES.split(\",\"),\n",
        ")\n",
        "\n",
        "model = get_peft_model(model, peft_config)\n",
        "model.print_trainable_parameters()\n",
        "```\n",
        "\n",
        "`trainable params: 5,554,176 || all params: 1,142,761,472 || trainable%: 0.4860310866343243`\n",
        "\n",
        "As you can see, by applying LoRA technique we will now need to train less than 1% of the parameters.\n",
        "\n",
        "Train the model\n",
        "Now that we have prepared the data, and optimized the model, we are ready to bring everything together to start the training.\n",
        "\n",
        "To instantiate a Trainer, you need to define the training configuration. The most important is the TrainingArguments, which is a class that contains all the attributes to configure the training.\n",
        "\n",
        "These are similar to any other kind of model training you may run, so we won’t go into detail here."
      ],
      "metadata": {
        "id": "arJxSzNWMMeU"
      }
    },
    {
      "cell_type": "code",
      "execution_count": null,
      "metadata": {
        "id": "DLtUpDsAKGgE"
      },
      "outputs": [],
      "source": [
        "train_data.start_iteration = 0\n",
        "\n",
        "\n",
        "training_args = TrainingArguments(\n",
        "    output_dir=f\"smartrics/{OUTPUT_DIR}\",\n",
        "    dataloader_drop_last=True,\n",
        "    evaluation_strategy=\"steps\",\n",
        "    save_strategy=\"steps\",\n",
        "    max_steps=MAX_STEPS,\n",
        "    eval_steps=EVAL_FREQ,\n",
        "    save_steps=SAVE_FREQ,\n",
        "    logging_steps=LOG_FREQ,\n",
        "    per_device_train_batch_size=BATCH_SIZE,\n",
        "    per_device_eval_batch_size=BATCH_SIZE,\n",
        "    learning_rate=LR,\n",
        "    lr_scheduler_type=LR_SCHEDULER_TYPE,\n",
        "    warmup_steps=NUM_WARMUP_STEPS,\n",
        "    gradient_accumulation_steps=GR_ACC_STEPS,\n",
        "    gradient_checkpointing=True,\n",
        "    fp16=FP16,\n",
        "    bf16=BF16,\n",
        "    weight_decay=WEIGHT_DECAY,\n",
        "    push_to_hub=True,\n",
        "    include_tokens_per_second=True,\n",
        ")\n",
        "As a final step, instantiate the Trainer and call the train method.\n",
        "\n",
        "Copied\n",
        "trainer = Trainer(model=model, args=training_args, train_dataset=train_dataset, eval_dataset=eval_dataset)\n",
        "\n",
        "print(\"Training...\")\n",
        "trainer.train()"
      ]
    },
    {
      "cell_type": "markdown",
      "source": [
        "Finally, you can push the fine-tuned model to your Hub repository to share with your team.\n"
      ],
      "metadata": {
        "id": "OIHD2GOYMsXm"
      }
    },
    {
      "cell_type": "code",
      "source": [
        "trainer.push_to_hub()"
      ],
      "metadata": {
        "id": "1HnYScl7MpgZ"
      },
      "execution_count": null,
      "outputs": []
    }
  ],
  "metadata": {
    "accelerator": "GPU",
    "colab": {
      "gpuType": "A100",
      "machine_shape": "hm",
      "provenance": []
    },
    "kernelspec": {
      "display_name": ".venv",
      "language": "python",
      "name": "python3"
    },
    "language_info": {
      "codemirror_mode": {
        "name": "ipython",
        "version": 3
      },
      "file_extension": ".py",
      "mimetype": "text/x-python",
      "name": "python",
      "nbconvert_exporter": "python",
      "pygments_lexer": "ipython3",
      "version": "3.12.9"
    }
  },
  "nbformat": 4,
  "nbformat_minor": 0
}